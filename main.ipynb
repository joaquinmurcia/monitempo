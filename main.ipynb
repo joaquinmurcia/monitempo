{
 "cells": [
  {
   "cell_type": "code",
   "execution_count": null,
   "id": "initial_id",
   "metadata": {
    "collapsed": true,
    "is_executing": true
   },
   "outputs": [],
   "source": [
    "import pandas as pd\n",
    "DATA_FOLDER = './data'\n",
    "TOGGL_IMPORT = DATA_FOLDER + '/toggl_timeline_export/timeline.json'\n",
    "RIZE_IMPORT = DATA_FOLDER + '/rize_export/Rize_Events_2024-06-14_2024-06-16.csv'"
   ]
  },
  {
   "cell_type": "code",
   "execution_count": 22,
   "outputs": [
    {
     "data": {
      "text/plain": "                id          start_time            end_time  \\\n0      23969711173 2024-02-04 10:14:51 2024-02-04 10:15:27   \n1      23969711174 2024-02-04 10:16:49 2024-02-04 10:16:59   \n2      23969711175 2024-02-04 10:16:59 2024-02-04 10:17:27   \n3      23969711176 2024-02-04 10:18:04 2024-02-04 10:18:19   \n4      23969711177 2024-02-04 10:19:58 2024-02-04 10:20:09   \n...            ...                 ...                 ...   \n11020  24244502418 2024-04-20 16:19:25 2024-04-20 16:19:37   \n11021  24244502419 2024-04-20 16:20:02 2024-04-20 16:20:15   \n11022  24244502420 2024-04-20 16:20:21 2024-04-20 16:20:45   \n11023  24244502421 2024-04-20 16:22:25 2024-04-20 16:22:37   \n11024  24244502422 2024-04-20 16:22:44 2024-04-20 16:22:56   \n\n                                 desktop_id              app  \\\n0      1B9DB15B-C0CE-45EE-9EDE-01DCD96D3AC8    Google Chrome   \n1      B8A03DB2-FADA-4270-8E07-2065F5658C95    Google Chrome   \n2      C8B0A760-FFF3-4318-8446-78D4D72299B1    Google Chrome   \n3      4F208A81-320C-48E7-A681-88E8BE2B9A0A  System Settings   \n4      187060E3-4F24-426E-AFBD-B45E8A72AD57           Notion   \n...                                     ...              ...   \n11020  4FDDA347-D7DF-4CF1-A1A0-98797A58B967    Google Chrome   \n11021  C6B5AADC-F81B-4F89-88A6-34F7DEEF41B1    Google Chrome   \n11022  BA4D768B-3CB2-42E2-BA59-876347CB93CC  Microsoft Excel   \n11023  F7A35B53-1E1C-40D5-887D-3FD5B369918C    Google Chrome   \n11024  59D014EB-E07D-4BB7-9236-04EE6005D9E9    Google Chrome   \n\n                                                   title   idle  \n0                                                   None  False  \n1      toggl system preferences read window titles - ...  False  \n2      Toggl Track Desktop App for macOS | Toggl Trac...  False  \n3                                     Privacy & Security  False  \n4                  Get C1 or some higher level in German  False  \n...                                                  ...    ...  \n11020        Pivotal Tracker Time Tracking | Toggl Track  False  \n11021                            Recent Download History  False  \n11022        Toggl_time_entries_2024-01-01_to_2024-12-31  False  \n11023        toggl track website tracker - Google Search  False  \n11024        Exporting data | Toggl Track Knowledge Base  False  \n\n[11025 rows x 7 columns]",
      "text/html": "<div>\n<style scoped>\n    .dataframe tbody tr th:only-of-type {\n        vertical-align: middle;\n    }\n\n    .dataframe tbody tr th {\n        vertical-align: top;\n    }\n\n    .dataframe thead th {\n        text-align: right;\n    }\n</style>\n<table border=\"1\" class=\"dataframe\">\n  <thead>\n    <tr style=\"text-align: right;\">\n      <th></th>\n      <th>id</th>\n      <th>start_time</th>\n      <th>end_time</th>\n      <th>desktop_id</th>\n      <th>app</th>\n      <th>title</th>\n      <th>idle</th>\n    </tr>\n  </thead>\n  <tbody>\n    <tr>\n      <th>0</th>\n      <td>23969711173</td>\n      <td>2024-02-04 10:14:51</td>\n      <td>2024-02-04 10:15:27</td>\n      <td>1B9DB15B-C0CE-45EE-9EDE-01DCD96D3AC8</td>\n      <td>Google Chrome</td>\n      <td>None</td>\n      <td>False</td>\n    </tr>\n    <tr>\n      <th>1</th>\n      <td>23969711174</td>\n      <td>2024-02-04 10:16:49</td>\n      <td>2024-02-04 10:16:59</td>\n      <td>B8A03DB2-FADA-4270-8E07-2065F5658C95</td>\n      <td>Google Chrome</td>\n      <td>toggl system preferences read window titles - ...</td>\n      <td>False</td>\n    </tr>\n    <tr>\n      <th>2</th>\n      <td>23969711175</td>\n      <td>2024-02-04 10:16:59</td>\n      <td>2024-02-04 10:17:27</td>\n      <td>C8B0A760-FFF3-4318-8446-78D4D72299B1</td>\n      <td>Google Chrome</td>\n      <td>Toggl Track Desktop App for macOS | Toggl Trac...</td>\n      <td>False</td>\n    </tr>\n    <tr>\n      <th>3</th>\n      <td>23969711176</td>\n      <td>2024-02-04 10:18:04</td>\n      <td>2024-02-04 10:18:19</td>\n      <td>4F208A81-320C-48E7-A681-88E8BE2B9A0A</td>\n      <td>System Settings</td>\n      <td>Privacy &amp; Security</td>\n      <td>False</td>\n    </tr>\n    <tr>\n      <th>4</th>\n      <td>23969711177</td>\n      <td>2024-02-04 10:19:58</td>\n      <td>2024-02-04 10:20:09</td>\n      <td>187060E3-4F24-426E-AFBD-B45E8A72AD57</td>\n      <td>Notion</td>\n      <td>Get C1 or some higher level in German</td>\n      <td>False</td>\n    </tr>\n    <tr>\n      <th>...</th>\n      <td>...</td>\n      <td>...</td>\n      <td>...</td>\n      <td>...</td>\n      <td>...</td>\n      <td>...</td>\n      <td>...</td>\n    </tr>\n    <tr>\n      <th>11020</th>\n      <td>24244502418</td>\n      <td>2024-04-20 16:19:25</td>\n      <td>2024-04-20 16:19:37</td>\n      <td>4FDDA347-D7DF-4CF1-A1A0-98797A58B967</td>\n      <td>Google Chrome</td>\n      <td>Pivotal Tracker Time Tracking | Toggl Track</td>\n      <td>False</td>\n    </tr>\n    <tr>\n      <th>11021</th>\n      <td>24244502419</td>\n      <td>2024-04-20 16:20:02</td>\n      <td>2024-04-20 16:20:15</td>\n      <td>C6B5AADC-F81B-4F89-88A6-34F7DEEF41B1</td>\n      <td>Google Chrome</td>\n      <td>Recent Download History</td>\n      <td>False</td>\n    </tr>\n    <tr>\n      <th>11022</th>\n      <td>24244502420</td>\n      <td>2024-04-20 16:20:21</td>\n      <td>2024-04-20 16:20:45</td>\n      <td>BA4D768B-3CB2-42E2-BA59-876347CB93CC</td>\n      <td>Microsoft Excel</td>\n      <td>Toggl_time_entries_2024-01-01_to_2024-12-31</td>\n      <td>False</td>\n    </tr>\n    <tr>\n      <th>11023</th>\n      <td>24244502421</td>\n      <td>2024-04-20 16:22:25</td>\n      <td>2024-04-20 16:22:37</td>\n      <td>F7A35B53-1E1C-40D5-887D-3FD5B369918C</td>\n      <td>Google Chrome</td>\n      <td>toggl track website tracker - Google Search</td>\n      <td>False</td>\n    </tr>\n    <tr>\n      <th>11024</th>\n      <td>24244502422</td>\n      <td>2024-04-20 16:22:44</td>\n      <td>2024-04-20 16:22:56</td>\n      <td>59D014EB-E07D-4BB7-9236-04EE6005D9E9</td>\n      <td>Google Chrome</td>\n      <td>Exporting data | Toggl Track Knowledge Base</td>\n      <td>False</td>\n    </tr>\n  </tbody>\n</table>\n<p>11025 rows × 7 columns</p>\n</div>"
     },
     "execution_count": 22,
     "metadata": {},
     "output_type": "execute_result"
    }
   ],
   "source": [
    "df = pd.read_json(TOGGL_IMPORT)\n",
    "df = df.rename(columns={'filename': 'app'})\n",
    "df = df[df['idle'] == False]  # Actually, there are no idle events in the data. # TODO: get data with idle true\n",
    "df"
   ],
   "metadata": {
    "collapsed": false,
    "ExecuteTime": {
     "end_time": "2024-06-15T10:44:44.768930Z",
     "start_time": "2024-06-15T10:44:44.734167Z"
    }
   },
   "id": "1f4e88bc20756861"
  },
  {
   "cell_type": "code",
   "execution_count": 23,
   "outputs": [
    {
     "name": "stdout",
     "output_type": "stream",
     "text": [
      "2024-02-04 10:14:51 2024-04-20 16:22:56\n"
     ]
    }
   ],
   "source": [
    "# Get range of dates\n",
    "start = df['start_time'].min()\n",
    "end = df['end_time'].max()\n",
    "print(start, end)"
   ],
   "metadata": {
    "collapsed": false,
    "ExecuteTime": {
     "end_time": "2024-06-15T10:46:02.009893Z",
     "start_time": "2024-06-15T10:46:02.005842Z"
    }
   },
   "id": "eb5187ae8d55e30"
  },
  {
   "cell_type": "code",
   "execution_count": null,
   "outputs": [],
   "source": [],
   "metadata": {
    "collapsed": false
   },
   "id": "1f66c8473546ebff"
  }
 ],
 "metadata": {
  "kernelspec": {
   "display_name": "Python 3",
   "language": "python",
   "name": "python3"
  },
  "language_info": {
   "codemirror_mode": {
    "name": "ipython",
    "version": 2
   },
   "file_extension": ".py",
   "mimetype": "text/x-python",
   "name": "python",
   "nbconvert_exporter": "python",
   "pygments_lexer": "ipython2",
   "version": "2.7.6"
  }
 },
 "nbformat": 4,
 "nbformat_minor": 5
}
